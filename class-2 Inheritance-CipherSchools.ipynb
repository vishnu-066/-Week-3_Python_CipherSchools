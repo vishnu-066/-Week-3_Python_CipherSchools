{
 "cells": [
  {
   "cell_type": "code",
   "execution_count": 1,
   "metadata": {},
   "outputs": [
    {
     "name": "stdout",
     "output_type": "stream",
     "text": [
      "B init executed\n"
     ]
    }
   ],
   "source": [
    "#inheritance\n",
    "     \n",
    "\n",
    "class A:\n",
    "  def __init__(self, x):\n",
    "    print(\"A init executed\")\n",
    "class B(A):\n",
    "  def __init__(self):\n",
    "    print(\"B init executed\")\n",
    "\n",
    "abc =B()"
   ]
  },
  {
   "cell_type": "code",
   "execution_count": 3,
   "metadata": {},
   "outputs": [
    {
     "name": "stdout",
     "output_type": "stream",
     "text": [
      "10\n"
     ]
    }
   ],
   "source": [
    "#MRO(method resolution order)\n",
    "     \n",
    "\n",
    "class A:\n",
    "  pass\n",
    "\n",
    "class B(A):\n",
    "  pass\n",
    "\n",
    "class C(B):\n",
    "  pass\n",
    "\n",
    "class D(A):\n",
    "  x = 10\n",
    "\n",
    "class E(C, D):\n",
    "  pass\n",
    "\n",
    "e = E()\n",
    "print(e.x)"
   ]
  },
  {
   "cell_type": "code",
   "execution_count": 4,
   "metadata": {},
   "outputs": [
    {
     "data": {
      "text/plain": [
       "[__main__.E, __main__.C, __main__.B, __main__.D, __main__.A, object]"
      ]
     },
     "execution_count": 4,
     "metadata": {},
     "output_type": "execute_result"
    }
   ],
   "source": [
    "E.mro()"
   ]
  },
  {
   "cell_type": "code",
   "execution_count": 6,
   "metadata": {},
   "outputs": [
    {
     "data": {
      "text/plain": [
       "<list_iterator at 0x18525aa3160>"
      ]
     },
     "execution_count": 6,
     "metadata": {},
     "output_type": "execute_result"
    }
   ],
   "source": [
    "a = [1, 2, 3, 4]\n",
    "iter(a)\n",
    "     \n"
   ]
  },
  {
   "cell_type": "code",
   "execution_count": 7,
   "metadata": {},
   "outputs": [
    {
     "name": "stdout",
     "output_type": "stream",
     "text": [
      "0\n",
      "1\n",
      "2\n",
      "3\n",
      "4\n"
     ]
    }
   ],
   "source": [
    "class myrange:\n",
    "  def __init__(self, n):\n",
    "    self.n = n\n",
    "\n",
    "  def __iter__(self):\n",
    "    return myrange_iterator(self)\n",
    "\n",
    "class myrange_iterator:\n",
    "  def __init__(self, myrange):\n",
    "    self.myrange = myrange\n",
    "    self.i = 0\n",
    "\n",
    "  def __next__(self):\n",
    "    ret = self.i\n",
    "    self.i += 1\n",
    "\n",
    "    if ret >= self.myrange.n:\n",
    "      raise StopIteration\n",
    "\n",
    "    return ret\n",
    "\n",
    "\n",
    "for i in myrange(5):\n",
    "  print(i)"
   ]
  }
 ],
 "metadata": {
  "kernelspec": {
   "display_name": "Python 3",
   "language": "python",
   "name": "python3"
  },
  "language_info": {
   "codemirror_mode": {
    "name": "ipython",
    "version": 3
   },
   "file_extension": ".py",
   "mimetype": "text/x-python",
   "name": "python",
   "nbconvert_exporter": "python",
   "pygments_lexer": "ipython3",
   "version": "3.10.7"
  },
  "orig_nbformat": 4,
  "vscode": {
   "interpreter": {
    "hash": "add1cb74235d156341f54caabe8f50fce074df6957978d587006bb8e3fc55ab7"
   }
  }
 },
 "nbformat": 4,
 "nbformat_minor": 2
}
